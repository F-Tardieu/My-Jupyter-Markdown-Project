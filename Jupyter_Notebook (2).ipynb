{
 "cells": [
  {
   "cell_type": "markdown",
   "metadata": {},
   "source": [
    "<center>\n",
    "    <img src=\"https://s3-api.us-geo.objectstorage.softlayer.net/cf-courses-data/CognitiveClass/Logos/organization_logo/organization_logo.png\" width=\"300\" alt=\"cognitiveclass.ai logo\"  />\n",
    "</center>\n"
   ]
  },
  {
   "cell_type": "markdown",
   "metadata": {},
   "source": [
    "#### Add your code below following the instructions given in the course\n"
   ]
  },
  {
   "cell_type": "markdown",
   "metadata": {
    "tags": []
   },
   "source": [
    "# My Jupyter Notebook on IBM Watson Studio"
   ]
  },
  {
   "cell_type": "markdown",
   "metadata": {
    "tags": []
   },
   "source": [
    "**Fritz Tardieu**\n",
    "Data Analyst"
   ]
  },
  {
   "cell_type": "markdown",
   "metadata": {},
   "source": [
    "*I am interested in becoming a data analyst because I love working with data. In addition, I love to solve mysteries and, working with data is like solving mysteries, to me.*"
   ]
  },
  {
   "cell_type": "markdown",
   "metadata": {},
   "source": [
    "### The code below will calculate 100 squared."
   ]
  },
  {
   "cell_type": "code",
   "execution_count": 5,
   "metadata": {},
   "outputs": [
    {
     "data": {
      "text/plain": [
       "10000"
      ]
     },
     "execution_count": 5,
     "metadata": {},
     "output_type": "execute_result"
    }
   ],
   "source": [
    "100 * 100"
   ]
  },
  {
   "cell_type": "markdown",
   "metadata": {},
   "source": [
    "[Here is a link to my portfolio](https://docs.google.com/presentation/d/e/2PACX-1vT3MgreBMJLX5shGP6X5XJRq22BcAEVSR3sTKTn5FJy4DsCPc4k4mSxNQbniw7iazJEZi36tGr6P2z-/pub?start=false&loop=true&delayms=5000&slide=id.p)\n",
    "It's a Medicare Inpatient Hospitals by Provider Case Study and answers the following questions:\n",
    "\n",
    "* **What are the Top 25 providers who charged the most Money for Medicare inpatient in 2020**\n",
    "* **Did the number of discharged patients validate the average submitted charges?**\n",
    "* **How much of the submitted charges did the company pay?**\n",
    "* **What are the states where the most payments were made?**\n",
    "* **And what are the Diagnosis Related Groups (DRGs) that are the most expensive?**\n",
    "\n",
    "![And that's my Jupyter Markdown Notebook.](https://www.fullstackpython.com/img/logos/markdown.png)"
   ]
  },
  {
   "cell_type": "code",
   "execution_count": null,
   "metadata": {},
   "outputs": [],
   "source": []
  }
 ],
 "metadata": {
  "kernelspec": {
   "display_name": "Python",
   "language": "python",
   "name": "conda-env-python-py"
  },
  "language_info": {
   "codemirror_mode": {
    "name": "ipython",
    "version": 3
   },
   "file_extension": ".py",
   "mimetype": "text/x-python",
   "name": "python",
   "nbconvert_exporter": "python",
   "pygments_lexer": "ipython3",
   "version": "3.7.12"
  }
 },
 "nbformat": 4,
 "nbformat_minor": 4
}
